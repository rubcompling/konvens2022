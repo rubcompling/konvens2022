{
 "cells": [
  {
   "cell_type": "markdown",
   "metadata": {},
   "source": [
    "# Plotting\n",
    "Notebook that can be used to create plots of data gained via the methods of this repository."
   ]
  },
  {
   "cell_type": "code",
   "execution_count": 2,
   "metadata": {},
   "outputs": [],
   "source": [
    "# import\n",
    "import sys, os\n",
    "import re\n",
    "\n",
    "# Insert the path of modules folder \n",
    "sys.path.insert(0, \"src\")\n",
    "\n",
    "import boxplots"
   ]
  },
  {
   "cell_type": "markdown",
   "metadata": {},
   "source": [
    "## Creating boxplots from student data"
   ]
  },
  {
   "cell_type": "code",
   "execution_count": 3,
   "metadata": {},
   "outputs": [
    {
     "name": "stderr",
     "output_type": "stream",
     "text": [
      "/home/dipper/.local/lib/python3.6/site-packages/numpy/core/_asarray.py:83: VisibleDeprecationWarning: Creating an ndarray from ragged nested sequences (which is a list-or-tuple of lists-or-tuples-or ndarrays with different lengths or shapes) is deprecated. If you meant to do this, you must specify 'dtype=object' when creating the ndarray\n",
      "  return array(a, dtype, copy=False, order=order)\n"
     ]
    }
   ],
   "source": [
    "dir_path = 'results/3_syntax/test_results/' #path to directory containing syntax data\n",
    "#dir_path = 'results/1_lex/test_results/' #path to directory containing lexical data\n",
    "\n",
    "#reading directory contents and saving to list csv_list\n",
    "csv_list=os.listdir(dir_path)\n",
    "\n",
    "#creating output directory if it doesn't exist already\n",
    "import os\n",
    "os.makedirs(\"results/plots/\", exist_ok=True)\n",
    "\n",
    "# iterating over filenames to create plots\n",
    "for csv in csv_list:\n",
    "    title_re = re.compile(r\"[^\\/]+\\.[^\\.]+$\")\n",
    "    title = re.search(title_re,csv).group().replace('.csv','')\n",
    "\n",
    "    out_path = \"./results/plots/\"+title\n",
    "    array, years, df = boxplots.read_data(dir_path+csv)\n",
    "    boxplots.boxplot(array, years, title, out_path)\n"
   ]
  },
  {
   "cell_type": "markdown",
   "metadata": {},
   "source": [
    "## Creating Boxplots from lexical Zeit/Express data"
   ]
  },
  {
   "cell_type": "code",
   "execution_count": 4,
   "metadata": {
    "scrolled": true
   },
   "outputs": [
    {
     "name": "stdout",
     "output_type": "stream",
     "text": [
      "['HDD_expr_zeit.csv', 'MTLD_expr_zeit.csv', 'MATTR_expr_zeit.csv']\n"
     ]
    }
   ],
   "source": [
    "dir_path = './results/1_lex/expr_zeit/' #path to directory containing data\n",
    "\n",
    "\n",
    "#reading directory contents and saving to list csv_list\n",
    "csv_list=os.listdir(dir_path)\n",
    "\n",
    "\n",
    "#filtering CSVs for usable tables\n",
    "csv_list_filtered = []\n",
    "for csv in csv_list:\n",
    "    \n",
    "    if csv[0] in ['H','M']:\n",
    "        csv_list_filtered.append(csv)\n",
    "\n",
    "print(csv_list_filtered)\n",
    "\n",
    "os.makedirs(\"results/plots/\", exist_ok=True)\n",
    "\n",
    "# iterating over filenames to create plots\n",
    "for csv in csv_list_filtered:\n",
    "\ttitle_re = re.compile(r\"[^\\/]+\\.[^\\.]+$\")\n",
    "\ttitle = re.search(title_re,csv).group().replace('.csv','')\n",
    "\n",
    "\tout_path = \"./results/plots/\"+title+\".png\"\n",
    "\tarray, years = boxplots.read_data_exze_new(dir_path+csv)\n",
    "\tboxplots.boxplot_exze_new(array,years,title, out_path)"
   ]
  },
  {
   "cell_type": "markdown",
   "metadata": {},
   "source": [
    "## Creating plots for Perplexity"
   ]
  },
  {
   "cell_type": "code",
   "execution_count": 5,
   "metadata": {},
   "outputs": [],
   "source": [
    "dir_path = './results/2_perplex/test_results/perplexity.csv'\n",
    "values, years = boxplots.read_data_ppl(dir_path)\n",
    "os.makedirs(\"results/plots/\", exist_ok=True)\n",
    "out_path = \"./results/plots/perplexity.png\"\n",
    "boxplots.boxplot_ppl(values, years, 'perplexity',out_path)"
   ]
  }
 ],
 "metadata": {
  "kernelspec": {
   "display_name": "Python 3",
   "language": "python",
   "name": "python3"
  },
  "language_info": {
   "codemirror_mode": {
    "name": "ipython",
    "version": 3
   },
   "file_extension": ".py",
   "mimetype": "text/x-python",
   "name": "python",
   "nbconvert_exporter": "python",
   "pygments_lexer": "ipython3",
   "version": "3.6.9"
  }
 },
 "nbformat": 4,
 "nbformat_minor": 5
}
